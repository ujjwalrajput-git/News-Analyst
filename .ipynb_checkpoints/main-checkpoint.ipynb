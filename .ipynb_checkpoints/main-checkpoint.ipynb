{
 "cells": [
  {
   "cell_type": "markdown",
   "id": "d6746455-b2dc-4a8e-9921-ac63dd1a4665",
   "metadata": {},
   "source": [
    "# News Analyst\n",
    "cc - Ujjwal Rajput"
   ]
  },
  {
   "cell_type": "markdown",
   "id": "7c270603-3f44-463f-b6f9-d36c370415e8",
   "metadata": {},
   "source": [
    "### Step 1 - Web Scraping"
   ]
  },
  {
   "cell_type": "markdown",
   "id": "1ab07321-26bd-48f9-9180-721271b5be9c",
   "metadata": {},
   "source": [
    "##### Importing Libraries"
   ]
  },
  {
   "cell_type": "code",
   "execution_count": 1,
   "id": "f761e7d8-d0b7-453a-9adf-09864e4b513a",
   "metadata": {},
   "outputs": [],
   "source": [
    "from bs4 import BeautifulSoup\n",
    "from datetime import datetime\n",
    "import time\n",
    "import requests\n",
    "import pandas as pd\n",
    "import os"
   ]
  },
  {
   "cell_type": "markdown",
   "id": "eaa03ed2-841a-46eb-9bf9-d42bb45dbe8d",
   "metadata": {},
   "source": [
    "##### Web Scraping function \n",
    "collecting news from www.news.google.com"
   ]
  },
  {
   "cell_type": "code",
   "execution_count": 2,
   "id": "36800aa2-10cc-4c7f-b8ea-7e08eda780d1",
   "metadata": {},
   "outputs": [
    {
     "name": "stdout",
     "output_type": "stream",
     "text": [
      "Scraping complete. Data saved to 'd:\\github\\News-Analyst\\google_news_scraped_data.xlsx'.\n"
     ]
    }
   ],
   "source": [
    "\n",
    "def scrape_google_news_to_excel(num_pages=5):\n",
    "    base_url = \"https://news.google.com/search?q={}&hl=en-US&gl=US&ceid=US:en\"\n",
    "    search_query = \"hdfc+bannk\"  # Replace with your desired search query\n",
    "\n",
    "    headlines_list = []\n",
    "    sources_list = []\n",
    "    dates_list = []\n",
    "\n",
    "    for page_num in range(num_pages):\n",
    "        url = base_url.format(search_query)\n",
    "        response = requests.get(url)\n",
    "\n",
    "        if response.status_code == 200:\n",
    "            soup = BeautifulSoup(response.text, \"html.parser\")\n",
    "            \n",
    "            headlines = soup.find_all(\"h3\", class_=\"ipQwMb ekueJc RD0gLb\")\n",
    "            dates = soup.find_all(\"time\", class_=\"WW6dff uQIVzc Sksgp slhocf\")\n",
    "            sources = soup.find_all(\"div\", class_=\"N0NI1d AVN2gc WfKKme\")\n",
    "            \n",
    "            for headline, sources, dates in zip(headlines, sources , dates):\n",
    "\n",
    "                source = sources.a.text\n",
    "                headline_text = headline.a.text\n",
    "                date = dates[\"datetime\"]\n",
    "            \n",
    "                parsed_date = datetime.strptime(date, \"%Y-%m-%dT%H:%M:%SZ\")\n",
    "                formatted_date = parsed_date.strftime(\"%H:%M  %d-%b-%y\")\n",
    "                \n",
    "                headlines_list.append(headline_text)\n",
    "                sources_list.append(source)\n",
    "                dates_list.append(formatted_date)\n",
    "\n",
    "            time.sleep(2)  # Add a delay to avoid overloading the server\n",
    "\n",
    "    data = {\n",
    "        \"Headline\": headlines_list,\n",
    "        \"Source\": sources_list,\n",
    "        \"Date\": dates_list,\n",
    "    }\n",
    "\n",
    "    df = pd.DataFrame(data)\n",
    "\n",
    "    save_directory = r\"d:\\github\\News-Analyst\"  # Replace with the desired directory path\n",
    "    excel_filename = os.path.join(save_directory, \"google_news_scraped_data.xlsx\")\n",
    "\n",
    "    df.to_excel(excel_filename, index=False)\n",
    "\n",
    "    print(f\"Scraping complete. Data saved to '{excel_filename}'.\")\n",
    "\n",
    "if __name__ == \"__main__\":\n",
    "    scrape_google_news_to_excel()\n"
   ]
  },
  {
   "cell_type": "code",
   "execution_count": 3,
   "id": "a02c1483-8d6f-4bb6-91a1-04149f1624b0",
   "metadata": {},
   "outputs": [
    {
     "ename": "NameError",
     "evalue": "name 'df' is not defined",
     "output_type": "error",
     "traceback": [
      "\u001b[1;31m---------------------------------------------------------------------------\u001b[0m",
      "\u001b[1;31mNameError\u001b[0m                                 Traceback (most recent call last)",
      "Cell \u001b[1;32mIn[3], line 1\u001b[0m\n\u001b[1;32m----> 1\u001b[0m \u001b[43mdf\u001b[49m\n",
      "\u001b[1;31mNameError\u001b[0m: name 'df' is not defined"
     ]
    }
   ],
   "source": [
    "df"
   ]
  },
  {
   "cell_type": "code",
   "execution_count": null,
   "id": "f2a6f31b-d119-4bbb-8686-ff5d4eacd9e0",
   "metadata": {},
   "outputs": [],
   "source": []
  }
 ],
 "metadata": {
  "kernelspec": {
   "display_name": "Python 3 (ipykernel)",
   "language": "python",
   "name": "python3"
  },
  "language_info": {
   "codemirror_mode": {
    "name": "ipython",
    "version": 3
   },
   "file_extension": ".py",
   "mimetype": "text/x-python",
   "name": "python",
   "nbconvert_exporter": "python",
   "pygments_lexer": "ipython3",
   "version": "3.8.0"
  }
 },
 "nbformat": 4,
 "nbformat_minor": 5
}
