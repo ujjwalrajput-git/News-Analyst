{
 "cells": [
  {
   "cell_type": "markdown",
   "id": "d6746455-b2dc-4a8e-9921-ac63dd1a4665",
   "metadata": {},
   "source": [
    "# News Analyst\n",
    "cc - Ujjwal Rajput\n",
    "ujjwalrajputofficial.in@gmail.com"
   ]
  },
  {
   "cell_type": "markdown",
   "id": "7c270603-3f44-463f-b6f9-d36c370415e8",
   "metadata": {},
   "source": [
    "### Step 1 - Web Scraping"
   ]
  },
  {
   "cell_type": "markdown",
   "id": "1ab07321-26bd-48f9-9180-721271b5be9c",
   "metadata": {},
   "source": [
    "##### Importing Libraries"
   ]
  },
  {
   "cell_type": "code",
   "execution_count": 1,
   "id": "f761e7d8-d0b7-453a-9adf-09864e4b513a",
   "metadata": {},
   "outputs": [],
   "source": [
    "from bs4 import BeautifulSoup\n",
    "from datetime import datetime\n",
    "import time\n",
    "import requests\n",
    "import pandas as pd\n",
    "import os"
   ]
  },
  {
   "cell_type": "markdown",
   "id": "eaa03ed2-841a-46eb-9bf9-d42bb45dbe8d",
   "metadata": {},
   "source": [
    "#### Web Scraping function \n",
    "Collecting news from www.news.google.com"
   ]
  },
  {
   "cell_type": "code",
   "execution_count": 2,
   "id": "36800aa2-10cc-4c7f-b8ea-7e08eda780d1",
   "metadata": {},
   "outputs": [
    {
     "name": "stdout",
     "output_type": "stream",
     "text": [
      "Scraping Sucessfull \n",
      "Total Article Scraped : 208\n"
     ]
    }
   ],
   "source": [
    "count = 1\n",
    "num_pages=1\n",
    "base_url = \"https://news.google.com/search?q=\"\n",
    "cps = ['HDFC','SBI']  # Replace with your desired search query\n",
    "\n",
    "headlines_list = []\n",
    "sources_list = []\n",
    "dates_list = []\n",
    "cps_list = []\n",
    "\n",
    "for cp in cps:\n",
    "    for page_num in range(num_pages):\n",
    "    \n",
    "        url = base_url+cp\n",
    "        response = requests.get(url)\n",
    "\n",
    "        if response.status_code == 200:\n",
    "            soup = BeautifulSoup(response.text, \"html.parser\")\n",
    "            \n",
    "            headlines = soup.find_all(\"h3\", class_=\"ipQwMb ekueJc RD0gLb\")\n",
    "            dates = soup.find_all(\"time\", class_=\"WW6dff uQIVzc Sksgp slhocf\")\n",
    "            sources = soup.find_all(\"div\", class_=\"N0NI1d AVN2gc WfKKme\")\n",
    "            for headline, sources, dates in zip(headlines, sources , dates):\n",
    "\n",
    "                date = dates[\"datetime\"]\n",
    "                source = sources.a.text\n",
    "                headline_text = headline.a.text\n",
    "\n",
    "                parsed_date = datetime.strptime(date, \"%Y-%m-%dT%H:%M:%SZ\")\n",
    "                formatted_date = parsed_date.strftime(\"%d-%m-%y\")\n",
    "                \n",
    "                headlines_list.append(headline_text)\n",
    "                sources_list.append(source)\n",
    "                dates_list.append(formatted_date)\n",
    "                cps_list.append(cp)\n",
    "                \n",
    "                count += 1\n",
    "\n",
    "            time.sleep(2)  # Add a delay to avoid overloading the server\n",
    "        else:\n",
    "            print(\"Unable to establish connection \")\n",
    "            print(response)\n",
    "            break\n",
    "data = {\n",
    "    \"Company\":cps_list,\n",
    "    \"Headline\": headlines_list,\n",
    "    \"Source\": sources_list,\n",
    "    \"Date\": dates_list\n",
    "\n",
    "}\n",
    "print(\"Scraping Sucessfull \\nTotal Article Scraped : \"+str(count) )"
   ]
  },
  {
   "cell_type": "markdown",
   "id": "2d050419",
   "metadata": {},
   "source": [
    "Storing the Scrapped data in form of DataFrame and Excel  "
   ]
  },
  {
   "cell_type": "code",
   "execution_count": 3,
   "id": "dea4aef2",
   "metadata": {},
   "outputs": [
    {
     "name": "stdout",
     "output_type": "stream",
     "text": [
      "Saved successful\n"
     ]
    }
   ],
   "source": [
    "df = pd.DataFrame(data)\n",
    "\n",
    "save_directory = r\"d:\\github\\News-Analyst\"  # Replacable directory path\n",
    "excel_filename = os.path.join(save_directory, \"google_news_scraped_data.xlsx\")\n",
    "\n",
    "df.to_excel(excel_filename, index=False)\n",
    "\n",
    "print(\"Saved successful\")"
   ]
  },
  {
   "cell_type": "code",
   "execution_count": 4,
   "id": "6d6dbb4b-7de4-46cf-b85e-508251b9df36",
   "metadata": {},
   "outputs": [
    {
     "data": {
      "text/plain": [
       "(207, 4)"
      ]
     },
     "execution_count": 4,
     "metadata": {},
     "output_type": "execute_result"
    }
   ],
   "source": [
    "df.shape"
   ]
  },
  {
   "cell_type": "code",
   "execution_count": 7,
   "id": "f2a6f31b-d119-4bbb-8686-ff5d4eacd9e0",
   "metadata": {},
   "outputs": [
    {
     "data": {
      "text/html": [
       "<div>\n",
       "<style scoped>\n",
       "    .dataframe tbody tr th:only-of-type {\n",
       "        vertical-align: middle;\n",
       "    }\n",
       "\n",
       "    .dataframe tbody tr th {\n",
       "        vertical-align: top;\n",
       "    }\n",
       "\n",
       "    .dataframe thead th {\n",
       "        text-align: right;\n",
       "    }\n",
       "</style>\n",
       "<table border=\"1\" class=\"dataframe\">\n",
       "  <thead>\n",
       "    <tr style=\"text-align: right;\">\n",
       "      <th></th>\n",
       "      <th>Company</th>\n",
       "      <th>Headline</th>\n",
       "      <th>Source</th>\n",
       "      <th>Date</th>\n",
       "    </tr>\n",
       "  </thead>\n",
       "  <tbody>\n",
       "    <tr>\n",
       "      <th>202</th>\n",
       "      <td>SBI</td>\n",
       "      <td>SBI server down: Why State Bank of India net b...</td>\n",
       "      <td>The Economic Times</td>\n",
       "      <td>04-04-23</td>\n",
       "    </tr>\n",
       "    <tr>\n",
       "      <th>203</th>\n",
       "      <td>SBI</td>\n",
       "      <td>SBI Q1 results may surprise investors. BNP Par...</td>\n",
       "      <td>The Economic Times</td>\n",
       "      <td>21-07-23</td>\n",
       "    </tr>\n",
       "    <tr>\n",
       "      <th>204</th>\n",
       "      <td>SBI</td>\n",
       "      <td>Best CEOs: How Dinesh Kumar Khara is taking SB...</td>\n",
       "      <td>Business Today</td>\n",
       "      <td>27-04-23</td>\n",
       "    </tr>\n",
       "    <tr>\n",
       "      <th>205</th>\n",
       "      <td>SBI</td>\n",
       "      <td>₹2,000 note exchange/ deposit: Know rules for ...</td>\n",
       "      <td>Mint</td>\n",
       "      <td>27-05-23</td>\n",
       "    </tr>\n",
       "    <tr>\n",
       "      <th>206</th>\n",
       "      <td>SBI</td>\n",
       "      <td>Loan rates to rise? SBI hikes lending rate by ...</td>\n",
       "      <td>Business Today</td>\n",
       "      <td>15-07-23</td>\n",
       "    </tr>\n",
       "  </tbody>\n",
       "</table>\n",
       "</div>"
      ],
      "text/plain": [
       "    Company                                           Headline  \\\n",
       "202     SBI  SBI server down: Why State Bank of India net b...   \n",
       "203     SBI  SBI Q1 results may surprise investors. BNP Par...   \n",
       "204     SBI  Best CEOs: How Dinesh Kumar Khara is taking SB...   \n",
       "205     SBI  ₹2,000 note exchange/ deposit: Know rules for ...   \n",
       "206     SBI  Loan rates to rise? SBI hikes lending rate by ...   \n",
       "\n",
       "                 Source      Date  \n",
       "202  The Economic Times  04-04-23  \n",
       "203  The Economic Times  21-07-23  \n",
       "204      Business Today  27-04-23  \n",
       "205                Mint  27-05-23  \n",
       "206      Business Today  15-07-23  "
      ]
     },
     "execution_count": 7,
     "metadata": {},
     "output_type": "execute_result"
    }
   ],
   "source": [
    "df.head()"
   ]
  },
  {
   "cell_type": "code",
   "execution_count": 8,
   "id": "60a8ce17",
   "metadata": {},
   "outputs": [
    {
     "data": {
      "text/html": [
       "<div>\n",
       "<style scoped>\n",
       "    .dataframe tbody tr th:only-of-type {\n",
       "        vertical-align: middle;\n",
       "    }\n",
       "\n",
       "    .dataframe tbody tr th {\n",
       "        vertical-align: top;\n",
       "    }\n",
       "\n",
       "    .dataframe thead th {\n",
       "        text-align: right;\n",
       "    }\n",
       "</style>\n",
       "<table border=\"1\" class=\"dataframe\">\n",
       "  <thead>\n",
       "    <tr style=\"text-align: right;\">\n",
       "      <th></th>\n",
       "      <th>Company</th>\n",
       "      <th>Headline</th>\n",
       "      <th>Source</th>\n",
       "      <th>Date</th>\n",
       "    </tr>\n",
       "  </thead>\n",
       "  <tbody>\n",
       "    <tr>\n",
       "      <th>202</th>\n",
       "      <td>SBI</td>\n",
       "      <td>SBI server down: Why State Bank of India net b...</td>\n",
       "      <td>The Economic Times</td>\n",
       "      <td>04-04-23</td>\n",
       "    </tr>\n",
       "    <tr>\n",
       "      <th>203</th>\n",
       "      <td>SBI</td>\n",
       "      <td>SBI Q1 results may surprise investors. BNP Par...</td>\n",
       "      <td>The Economic Times</td>\n",
       "      <td>21-07-23</td>\n",
       "    </tr>\n",
       "    <tr>\n",
       "      <th>204</th>\n",
       "      <td>SBI</td>\n",
       "      <td>Best CEOs: How Dinesh Kumar Khara is taking SB...</td>\n",
       "      <td>Business Today</td>\n",
       "      <td>27-04-23</td>\n",
       "    </tr>\n",
       "    <tr>\n",
       "      <th>205</th>\n",
       "      <td>SBI</td>\n",
       "      <td>₹2,000 note exchange/ deposit: Know rules for ...</td>\n",
       "      <td>Mint</td>\n",
       "      <td>27-05-23</td>\n",
       "    </tr>\n",
       "    <tr>\n",
       "      <th>206</th>\n",
       "      <td>SBI</td>\n",
       "      <td>Loan rates to rise? SBI hikes lending rate by ...</td>\n",
       "      <td>Business Today</td>\n",
       "      <td>15-07-23</td>\n",
       "    </tr>\n",
       "  </tbody>\n",
       "</table>\n",
       "</div>"
      ],
      "text/plain": [
       "    Company                                           Headline  \\\n",
       "202     SBI  SBI server down: Why State Bank of India net b...   \n",
       "203     SBI  SBI Q1 results may surprise investors. BNP Par...   \n",
       "204     SBI  Best CEOs: How Dinesh Kumar Khara is taking SB...   \n",
       "205     SBI  ₹2,000 note exchange/ deposit: Know rules for ...   \n",
       "206     SBI  Loan rates to rise? SBI hikes lending rate by ...   \n",
       "\n",
       "                 Source      Date  \n",
       "202  The Economic Times  04-04-23  \n",
       "203  The Economic Times  21-07-23  \n",
       "204      Business Today  27-04-23  \n",
       "205                Mint  27-05-23  \n",
       "206      Business Today  15-07-23  "
      ]
     },
     "execution_count": 8,
     "metadata": {},
     "output_type": "execute_result"
    }
   ],
   "source": [
    "df.tail()"
   ]
  },
  {
   "cell_type": "code",
   "execution_count": 6,
   "id": "61f93009-16ba-4aa0-98d9-c8cecc425b8f",
   "metadata": {},
   "outputs": [
    {
     "name": "stdout",
     "output_type": "stream",
     "text": [
      "<class 'pandas.core.frame.DataFrame'>\n",
      "RangeIndex: 207 entries, 0 to 206\n",
      "Data columns (total 4 columns):\n",
      " #   Column    Non-Null Count  Dtype \n",
      "---  ------    --------------  ----- \n",
      " 0   Company   207 non-null    object\n",
      " 1   Headline  207 non-null    object\n",
      " 2   Source    207 non-null    object\n",
      " 3   Date      207 non-null    object\n",
      "dtypes: object(4)\n",
      "memory usage: 6.6+ KB\n"
     ]
    }
   ],
   "source": [
    "df.info()"
   ]
  },
  {
   "cell_type": "code",
   "execution_count": null,
   "id": "cb53c546",
   "metadata": {},
   "outputs": [
    {
     "name": "stdout",
     "output_type": "stream",
     "text": [
      "<class 'pandas.core.frame.DataFrame'>\n",
      "RangeIndex: 207 entries, 0 to 206\n",
      "Data columns (total 4 columns):\n",
      " #   Column    Non-Null Count  Dtype \n",
      "---  ------    --------------  ----- \n",
      " 0   Company   207 non-null    object\n",
      " 1   Headline  207 non-null    object\n",
      " 2   Source    207 non-null    object\n",
      " 3   Date      207 non-null    object\n",
      "dtypes: object(4)\n",
      "memory usage: 6.6+ KB\n"
     ]
    }
   ],
   "source": [
    "df.info()"
   ]
  },
  {
   "cell_type": "code",
   "execution_count": null,
   "id": "0047e8a0",
   "metadata": {},
   "outputs": [
    {
     "name": "stdout",
     "output_type": "stream",
     "text": [
      "<class 'pandas.core.frame.DataFrame'>\n",
      "RangeIndex: 207 entries, 0 to 206\n",
      "Data columns (total 4 columns):\n",
      " #   Column    Non-Null Count  Dtype \n",
      "---  ------    --------------  ----- \n",
      " 0   Company   207 non-null    object\n",
      " 1   Headline  207 non-null    object\n",
      " 2   Source    207 non-null    object\n",
      " 3   Date      207 non-null    object\n",
      "dtypes: object(4)\n",
      "memory usage: 6.6+ KB\n"
     ]
    }
   ],
   "source": [
    "df.info()"
   ]
  },
  {
   "cell_type": "code",
   "execution_count": null,
   "id": "3ac580c2",
   "metadata": {},
   "outputs": [
    {
     "name": "stdout",
     "output_type": "stream",
     "text": [
      "<class 'pandas.core.frame.DataFrame'>\n",
      "RangeIndex: 207 entries, 0 to 206\n",
      "Data columns (total 4 columns):\n",
      " #   Column    Non-Null Count  Dtype \n",
      "---  ------    --------------  ----- \n",
      " 0   Company   207 non-null    object\n",
      " 1   Headline  207 non-null    object\n",
      " 2   Source    207 non-null    object\n",
      " 3   Date      207 non-null    object\n",
      "dtypes: object(4)\n",
      "memory usage: 6.6+ KB\n"
     ]
    }
   ],
   "source": [
    "df.info()"
   ]
  },
  {
   "cell_type": "code",
   "execution_count": null,
   "id": "8e701b34",
   "metadata": {},
   "outputs": [
    {
     "name": "stdout",
     "output_type": "stream",
     "text": [
      "<class 'pandas.core.frame.DataFrame'>\n",
      "RangeIndex: 207 entries, 0 to 206\n",
      "Data columns (total 4 columns):\n",
      " #   Column    Non-Null Count  Dtype \n",
      "---  ------    --------------  ----- \n",
      " 0   Company   207 non-null    object\n",
      " 1   Headline  207 non-null    object\n",
      " 2   Source    207 non-null    object\n",
      " 3   Date      207 non-null    object\n",
      "dtypes: object(4)\n",
      "memory usage: 6.6+ KB\n"
     ]
    }
   ],
   "source": [
    "df.info()"
   ]
  }
 ],
 "metadata": {
  "kernelspec": {
   "display_name": "Python 3 (ipykernel)",
   "language": "python",
   "name": "python3"
  },
  "language_info": {
   "codemirror_mode": {
    "name": "ipython",
    "version": 3
   },
   "file_extension": ".py",
   "mimetype": "text/x-python",
   "name": "python",
   "nbconvert_exporter": "python",
   "pygments_lexer": "ipython3",
   "version": "3.11.4"
  }
 },
 "nbformat": 4,
 "nbformat_minor": 5
}
