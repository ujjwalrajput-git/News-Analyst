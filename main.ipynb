{
 "cells": [
  {
   "cell_type": "markdown",
   "id": "d6746455-b2dc-4a8e-9921-ac63dd1a4665",
   "metadata": {},
   "source": [
    "# News Analyst\n",
    "cc - Ujjwal Rajput\n",
    "ujjwalrajputofficial.in@gmail.com"
   ]
  },
  {
   "cell_type": "markdown",
   "id": "7c270603-3f44-463f-b6f9-d36c370415e8",
   "metadata": {},
   "source": [
    "### Step 1 - Web Scraping"
   ]
  },
  {
   "cell_type": "markdown",
   "id": "1ab07321-26bd-48f9-9180-721271b5be9c",
   "metadata": {},
   "source": [
    "##### Importing Libraries"
   ]
  },
  {
   "cell_type": "code",
   "execution_count": null,
   "id": "f761e7d8-d0b7-453a-9adf-09864e4b513a",
   "metadata": {},
   "outputs": [],
   "source": [
    "from bs4 import BeautifulSoup\n",
    "from datetime import datetime\n",
    "import time\n",
    "import requests\n",
    "import pandas as pd\n",
    "import os"
   ]
  },
  {
   "cell_type": "markdown",
   "id": "eaa03ed2-841a-46eb-9bf9-d42bb45dbe8d",
   "metadata": {},
   "source": [
    "#### Web Scraping function \n",
    "Collecting news from www.news.google.com"
   ]
  },
  {
   "cell_type": "code",
   "execution_count": null,
   "id": "36800aa2-10cc-4c7f-b8ea-7e08eda780d1",
   "metadata": {},
   "outputs": [],
   "source": [
    "num_pages=1\n",
    "base_url = \"https://news.google.com/search?q=\"\n",
    "cps = ['HDFC','SBI']  # Replace with your desired search query\n",
    "\n",
    "headlines_list = []\n",
    "sources_list = []\n",
    "dates_list = []\n",
    "cps_list = []\n",
    "\n",
    "for cp in cps:\n",
    "    for page_num in range(num_pages):\n",
    "    \n",
    "        url = base_url+cp\n",
    "        response = requests.get(url)\n",
    "\n",
    "        if response.status_code == 200:\n",
    "            soup = BeautifulSoup(response.text, \"html.parser\")\n",
    "            \n",
    "            headlines = soup.find_all(\"h3\", class_=\"ipQwMb ekueJc RD0gLb\")\n",
    "            dates = soup.find_all(\"time\", class_=\"WW6dff uQIVzc Sksgp slhocf\")\n",
    "            sources = soup.find_all(\"div\", class_=\"N0NI1d AVN2gc WfKKme\")\n",
    "            for headline, sources, dates in zip(headlines, sources , dates):\n",
    "\n",
    "                date = dates[\"datetime\"]\n",
    "                source = sources.a.text\n",
    "                headline_text = headline.a.text\n",
    "\n",
    "                parsed_date = datetime.strptime(date, \"%Y-%m-%dT%H:%M:%SZ\")\n",
    "                formatted_date = parsed_date.strftime(\"%H:%M  %d-%b-%y\")\n",
    "                \n",
    "                headlines_list.append(headline_text)\n",
    "                sources_list.append(source)\n",
    "                dates_list.append(formatted_date)\n",
    "                cps_list.append(cp)\n",
    "\n",
    "            time.sleep(2)  # Add a delay to avoid overloading the server\n",
    "        else:\n",
    "            print(\"Unable to establish connection \")\n",
    "            print(response)\n",
    "            break\n",
    "data = {\n",
    "    \"Company\":cps_list,\n",
    "    \"Headline\": headlines_list,\n",
    "    \"Source\": sources_list,\n",
    "    \"Date\": dates_list\n",
    "\n",
    "}"
   ]
  },
  {
   "cell_type": "markdown",
   "id": "2d050419",
   "metadata": {},
   "source": [
    "Storing the Scrapped data in form of DataFrame and Excel  "
   ]
  },
  {
   "cell_type": "code",
   "execution_count": null,
   "id": "dea4aef2",
   "metadata": {},
   "outputs": [],
   "source": [
    "df = pd.DataFrame(data)\n",
    "\n",
    "save_directory = r\"d:\\github\\News-Analyst\"  # Replacable directory path\n",
    "excel_filename = os.path.join(save_directory, \"google_news_scraped_data.xlsx\")\n",
    "\n",
    "df.to_excel(excel_filename, index=False)"
   ]
  },
  {
   "cell_type": "code",
   "execution_count": null,
   "id": "6d6dbb4b-7de4-46cf-b85e-508251b9df36",
   "metadata": {},
   "outputs": [],
   "source": [
    "df.shape"
   ]
  },
  {
   "cell_type": "code",
   "execution_count": null,
   "id": "f2a6f31b-d119-4bbb-8686-ff5d4eacd9e0",
   "metadata": {},
   "outputs": [],
   "source": [
    "df.head()"
   ]
  },
  {
   "cell_type": "code",
   "execution_count": null,
   "id": "61f93009-16ba-4aa0-98d9-c8cecc425b8f",
   "metadata": {},
   "outputs": [],
   "source": [
    "df.info()"
   ]
  }
 ],
 "metadata": {
  "kernelspec": {
   "display_name": "Python 3 (ipykernel)",
   "language": "python",
   "name": "python3"
  },
  "language_info": {
   "codemirror_mode": {
    "name": "ipython",
    "version": 3
   },
   "file_extension": ".py",
   "mimetype": "text/x-python",
   "name": "python",
   "nbconvert_exporter": "python",
   "pygments_lexer": "ipython3",
   "version": "3.11.4"
  }
 },
 "nbformat": 4,
 "nbformat_minor": 5
}
