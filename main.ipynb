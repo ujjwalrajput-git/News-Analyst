{
 "cells": [
  {
   "cell_type": "markdown",
   "id": "d6746455-b2dc-4a8e-9921-ac63dd1a4665",
   "metadata": {},
   "source": [
    "# News Analyst\n",
    "cc - Ujjwal Rajput\n",
    "ujjwalrajputofficial.in@gmail.com"
   ]
  },
  {
   "cell_type": "markdown",
   "id": "7c270603-3f44-463f-b6f9-d36c370415e8",
   "metadata": {},
   "source": [
    "### Step 1 - Web Scraping"
   ]
  },
  {
   "cell_type": "markdown",
   "id": "1ab07321-26bd-48f9-9180-721271b5be9c",
   "metadata": {},
   "source": [
    "##### Importing Libraries"
   ]
  },
  {
   "cell_type": "code",
   "execution_count": 2,
   "id": "f761e7d8-d0b7-453a-9adf-09864e4b513a",
   "metadata": {},
   "outputs": [],
   "source": [
    "from bs4 import BeautifulSoup\n",
    "from datetime import datetime\n",
    "import time\n",
    "import requests\n",
    "import pandas as pd\n",
    "import os"
   ]
  },
  {
   "cell_type": "markdown",
   "id": "eaa03ed2-841a-46eb-9bf9-d42bb45dbe8d",
   "metadata": {},
   "source": [
    "#### Web Scraping function \n",
    "Collecting news from www.news.google.com"
   ]
  },
  {
   "cell_type": "code",
   "execution_count": 25,
   "id": "36800aa2-10cc-4c7f-b8ea-7e08eda780d1",
   "metadata": {},
   "outputs": [
    {
     "name": "stdout",
     "output_type": "stream",
     "text": [
      "Scraping Sucessfull \n",
      "Total Article Scraped : 511\n"
     ]
    }
   ],
   "source": [
    "count = 1\n",
    "num_pages = 5  # Number Of Pages -- 1 = 100 per cp\n",
    "base_url = \"https://news.google.com/search?q=\"\n",
    "cps = ['HDFC']  # Replace with your desired search query\n",
    "\n",
    "headlines_list = []\n",
    "sources_list = []\n",
    "dates_list = []\n",
    "cps_list = []\n",
    "\n",
    "for cp in cps:\n",
    "    for page_num in range(num_pages):\n",
    "    \n",
    "        url = base_url+cp\n",
    "        response = requests.get(url)\n",
    "\n",
    "        if response.status_code == 200:\n",
    "            soup = BeautifulSoup(response.text, \"html.parser\")\n",
    "            \n",
    "            headlines = soup.find_all(\"h3\", class_=\"ipQwMb ekueJc RD0gLb\")\n",
    "            dates = soup.find_all(\"time\", class_=\"WW6dff uQIVzc Sksgp slhocf\")\n",
    "            sources = soup.find_all(\"div\", class_=\"N0NI1d AVN2gc WfKKme\")\n",
    "            for headline, sources, dates in zip(headlines, sources , dates):\n",
    "\n",
    "                date = dates[\"datetime\"]\n",
    "                source = sources.a.text\n",
    "                headline_text = headline.a.text\n",
    "\n",
    "                parsed_date = datetime.strptime(date, \"%Y-%m-%dT%H:%M:%SZ\")\n",
    "                formatted_date = parsed_date.strftime(\"%d-%m-%y\")\n",
    "                \n",
    "                headlines_list.append(headline_text)\n",
    "                sources_list.append(source)\n",
    "                dates_list.append(formatted_date)\n",
    "                cps_list.append(cp)\n",
    "                \n",
    "                count += 1\n",
    "\n",
    "            time.sleep(2)  # Add a delay to avoid overloading the server\n",
    "        else:\n",
    "            print(\"Unable to establish connection \")\n",
    "            print(response)\n",
    "            break\n",
    "data = {\n",
    "    \"Company\":cps_list,\n",
    "    \"Headline\": headlines_list,\n",
    "    \"Source\": sources_list,\n",
    "    \"Date\": dates_list\n",
    "\n",
    "}\n",
    "print(\"Scraping Sucessfull \\nTotal Article Scraped : \"+str(count) )"
   ]
  },
  {
   "cell_type": "markdown",
   "id": "2d050419",
   "metadata": {},
   "source": [
    "Storing the Scrapped data in form of DataFrame and Excel  "
   ]
  },
  {
   "cell_type": "code",
   "execution_count": 26,
   "id": "dea4aef2",
   "metadata": {},
   "outputs": [
    {
     "name": "stdout",
     "output_type": "stream",
     "text": [
      "Saved successful\n"
     ]
    }
   ],
   "source": [
    "df = pd.DataFrame(data)\n",
    "\n",
    "save_directory = r\"d:\\github\\News-Analyst\"  # Replacable directory path\n",
    "excel_filename = os.path.join(save_directory, \"google_news_scraped_data.xlsx\")\n",
    "\n",
    "df.to_excel(excel_filename, index=False)\n",
    "\n",
    "print(\"Saved successful\")"
   ]
  },
  {
   "cell_type": "code",
   "execution_count": 27,
   "id": "6d6dbb4b-7de4-46cf-b85e-508251b9df36",
   "metadata": {},
   "outputs": [
    {
     "data": {
      "text/plain": [
       "(510, 4)"
      ]
     },
     "execution_count": 27,
     "metadata": {},
     "output_type": "execute_result"
    }
   ],
   "source": [
    "df.shape"
   ]
  },
  {
   "cell_type": "code",
   "execution_count": 28,
   "id": "f2a6f31b-d119-4bbb-8686-ff5d4eacd9e0",
   "metadata": {},
   "outputs": [
    {
     "data": {
      "text/html": [
       "<div>\n",
       "<style scoped>\n",
       "    .dataframe tbody tr th:only-of-type {\n",
       "        vertical-align: middle;\n",
       "    }\n",
       "\n",
       "    .dataframe tbody tr th {\n",
       "        vertical-align: top;\n",
       "    }\n",
       "\n",
       "    .dataframe thead th {\n",
       "        text-align: right;\n",
       "    }\n",
       "</style>\n",
       "<table border=\"1\" class=\"dataframe\">\n",
       "  <thead>\n",
       "    <tr style=\"text-align: right;\">\n",
       "      <th></th>\n",
       "      <th>Company</th>\n",
       "      <th>Headline</th>\n",
       "      <th>Source</th>\n",
       "      <th>Date</th>\n",
       "    </tr>\n",
       "  </thead>\n",
       "  <tbody>\n",
       "    <tr>\n",
       "      <th>0</th>\n",
       "      <td>HDFC</td>\n",
       "      <td>Markets log 4th day of rally on buying in HDFC...</td>\n",
       "      <td>Times of India</td>\n",
       "      <td>06-09-23</td>\n",
       "    </tr>\n",
       "    <tr>\n",
       "      <th>1</th>\n",
       "      <td>HDFC</td>\n",
       "      <td>Markets log 4th day of rally on buying in HDFC...</td>\n",
       "      <td>The Hindu</td>\n",
       "      <td>06-09-23</td>\n",
       "    </tr>\n",
       "    <tr>\n",
       "      <th>2</th>\n",
       "      <td>HDFC</td>\n",
       "      <td>HDFC Bank, ICICI Bank, Bank of Baroda shares: ...</td>\n",
       "      <td>CNBCTV18</td>\n",
       "      <td>07-09-23</td>\n",
       "    </tr>\n",
       "    <tr>\n",
       "      <th>3</th>\n",
       "      <td>HDFC</td>\n",
       "      <td>Buy Sobha; target of Rs 1024: HDFC Securities</td>\n",
       "      <td>Moneycontrol</td>\n",
       "      <td>07-09-23</td>\n",
       "    </tr>\n",
       "    <tr>\n",
       "      <th>4</th>\n",
       "      <td>HDFC</td>\n",
       "      <td>UPI and digital trends shaping the future of c...</td>\n",
       "      <td>BusinessLine</td>\n",
       "      <td>04-09-23</td>\n",
       "    </tr>\n",
       "  </tbody>\n",
       "</table>\n",
       "</div>"
      ],
      "text/plain": [
       "  Company                                           Headline          Source  \\\n",
       "0    HDFC  Markets log 4th day of rally on buying in HDFC...  Times of India   \n",
       "1    HDFC  Markets log 4th day of rally on buying in HDFC...       The Hindu   \n",
       "2    HDFC  HDFC Bank, ICICI Bank, Bank of Baroda shares: ...        CNBCTV18   \n",
       "3    HDFC      Buy Sobha; target of Rs 1024: HDFC Securities    Moneycontrol   \n",
       "4    HDFC  UPI and digital trends shaping the future of c...    BusinessLine   \n",
       "\n",
       "       Date  \n",
       "0  06-09-23  \n",
       "1  06-09-23  \n",
       "2  07-09-23  \n",
       "3  07-09-23  \n",
       "4  04-09-23  "
      ]
     },
     "execution_count": 28,
     "metadata": {},
     "output_type": "execute_result"
    }
   ],
   "source": [
    "df.head()"
   ]
  },
  {
   "cell_type": "code",
   "execution_count": 29,
   "id": "60a8ce17",
   "metadata": {},
   "outputs": [
    {
     "data": {
      "text/html": [
       "<div>\n",
       "<style scoped>\n",
       "    .dataframe tbody tr th:only-of-type {\n",
       "        vertical-align: middle;\n",
       "    }\n",
       "\n",
       "    .dataframe tbody tr th {\n",
       "        vertical-align: top;\n",
       "    }\n",
       "\n",
       "    .dataframe thead th {\n",
       "        text-align: right;\n",
       "    }\n",
       "</style>\n",
       "<table border=\"1\" class=\"dataframe\">\n",
       "  <thead>\n",
       "    <tr style=\"text-align: right;\">\n",
       "      <th></th>\n",
       "      <th>Company</th>\n",
       "      <th>Headline</th>\n",
       "      <th>Source</th>\n",
       "      <th>Date</th>\n",
       "    </tr>\n",
       "  </thead>\n",
       "  <tbody>\n",
       "    <tr>\n",
       "      <th>505</th>\n",
       "      <td>HDFC</td>\n",
       "      <td>Brokers alert clients to close out HDFC F&amp;O Co...</td>\n",
       "      <td>Mint</td>\n",
       "      <td>12-07-23</td>\n",
       "    </tr>\n",
       "    <tr>\n",
       "      <th>506</th>\n",
       "      <td>HDFC</td>\n",
       "      <td>'It is time to hang my boots': HDFC chairman D...</td>\n",
       "      <td>Business Today</td>\n",
       "      <td>30-06-23</td>\n",
       "    </tr>\n",
       "    <tr>\n",
       "      <th>507</th>\n",
       "      <td>HDFC</td>\n",
       "      <td>MFs may have to offload ₹4,500 cr of HDFC Bank...</td>\n",
       "      <td>BusinessLine</td>\n",
       "      <td>15-06-23</td>\n",
       "    </tr>\n",
       "    <tr>\n",
       "      <th>508</th>\n",
       "      <td>HDFC</td>\n",
       "      <td>HDFC Bank stares at NIM, cost concerns after d...</td>\n",
       "      <td>Mint</td>\n",
       "      <td>17-04-23</td>\n",
       "    </tr>\n",
       "    <tr>\n",
       "      <th>509</th>\n",
       "      <td>HDFC</td>\n",
       "      <td>HDFC Bank’s $173 billion merger with its paren...</td>\n",
       "      <td>The Economic Times</td>\n",
       "      <td>27-06-23</td>\n",
       "    </tr>\n",
       "  </tbody>\n",
       "</table>\n",
       "</div>"
      ],
      "text/plain": [
       "    Company                                           Headline  \\\n",
       "505    HDFC  Brokers alert clients to close out HDFC F&O Co...   \n",
       "506    HDFC  'It is time to hang my boots': HDFC chairman D...   \n",
       "507    HDFC  MFs may have to offload ₹4,500 cr of HDFC Bank...   \n",
       "508    HDFC  HDFC Bank stares at NIM, cost concerns after d...   \n",
       "509    HDFC  HDFC Bank’s $173 billion merger with its paren...   \n",
       "\n",
       "                 Source      Date  \n",
       "505                Mint  12-07-23  \n",
       "506      Business Today  30-06-23  \n",
       "507        BusinessLine  15-06-23  \n",
       "508                Mint  17-04-23  \n",
       "509  The Economic Times  27-06-23  "
      ]
     },
     "execution_count": 29,
     "metadata": {},
     "output_type": "execute_result"
    }
   ],
   "source": [
    "df.tail()"
   ]
  },
  {
   "cell_type": "code",
   "execution_count": 30,
   "id": "cb53c546",
   "metadata": {},
   "outputs": [
    {
     "name": "stdout",
     "output_type": "stream",
     "text": [
      "<class 'pandas.core.frame.DataFrame'>\n",
      "RangeIndex: 510 entries, 0 to 509\n",
      "Data columns (total 4 columns):\n",
      " #   Column    Non-Null Count  Dtype \n",
      "---  ------    --------------  ----- \n",
      " 0   Company   510 non-null    object\n",
      " 1   Headline  510 non-null    object\n",
      " 2   Source    510 non-null    object\n",
      " 3   Date      510 non-null    object\n",
      "dtypes: object(4)\n",
      "memory usage: 16.1+ KB\n"
     ]
    }
   ],
   "source": [
    "df.info()"
   ]
  },
  {
   "cell_type": "markdown",
   "id": "b871afcc",
   "metadata": {},
   "source": [
    "### Step 2 - VADER Sentiment Scoring"
   ]
  },
  {
   "cell_type": "code",
   "execution_count": 19,
   "id": "df90d81b",
   "metadata": {},
   "outputs": [],
   "source": [
    "import nltk\n",
    "from nltk.sentiment import SentimentIntensityAnalyzer\n",
    "\n",
    "from tqdm.notebook import tqdm\n",
    "\n",
    "sia = SentimentIntensityAnalyzer()"
   ]
  },
  {
   "cell_type": "code",
   "execution_count": 43,
   "id": "89e140fb",
   "metadata": {},
   "outputs": [
    {
     "data": {
      "text/plain": [
       "'HDFC Bank: ग्राहकों को बड़ा झटका, इस चीज के चुकाना होंगे ज्यादा पैसे, लिया ये बड़ा फैसला'"
      ]
     },
     "execution_count": 43,
     "metadata": {},
     "output_type": "execute_result"
    }
   ],
   "source": [
    "df['Headline'][6]"
   ]
  },
  {
   "cell_type": "code",
   "execution_count": 44,
   "id": "2b28cf90",
   "metadata": {},
   "outputs": [
    {
     "data": {
      "text/plain": [
       "{'neg': 0.0, 'neu': 1.0, 'pos': 0.0, 'compound': 0.0}"
      ]
     },
     "execution_count": 44,
     "metadata": {},
     "output_type": "execute_result"
    }
   ],
   "source": [
    "sia.polarity_scores(df['Headline'][6])"
   ]
  },
  {
   "cell_type": "code",
   "execution_count": 70,
   "id": "3d9fa52d",
   "metadata": {},
   "outputs": [
    {
     "name": "stdout",
     "output_type": "stream",
     "text": [
      "<class 'pandas.core.frame.DataFrame'>\n",
      "RangeIndex: 0 entries\n",
      "Empty DataFrame\n"
     ]
    }
   ],
   "source": [
    "sc = pd.DataFrame()\n",
    "sc.info()"
   ]
  },
  {
   "cell_type": "code",
   "execution_count": 71,
   "id": "32e12bf6",
   "metadata": {},
   "outputs": [
    {
     "name": "stdout",
     "output_type": "stream",
     "text": [
      "<class 'pandas.core.frame.DataFrame'>\n",
      "RangeIndex: 510 entries, 0 to 509\n",
      "Data columns (total 4 columns):\n",
      " #   Column    Non-Null Count  Dtype  \n",
      "---  ------    --------------  -----  \n",
      " 0   neg       510 non-null    float64\n",
      " 1   neu       510 non-null    float64\n",
      " 2   pos       510 non-null    float64\n",
      " 3   compound  510 non-null    float64\n",
      "dtypes: float64(4)\n",
      "memory usage: 16.1 KB\n"
     ]
    }
   ],
   "source": [
    "for headline in df['Headline']:\n",
    "    scores = sia.polarity_scores(headline)\n",
    "    sc = pd.concat([sc, pd.DataFrame(scores, index=[0])], ignore_index=True)\n",
    "\n",
    "sc.info()\n"
   ]
  },
  {
   "cell_type": "code",
   "execution_count": 69,
   "id": "457a3752",
   "metadata": {},
   "outputs": [
    {
     "data": {
      "text/html": [
       "<div>\n",
       "<style scoped>\n",
       "    .dataframe tbody tr th:only-of-type {\n",
       "        vertical-align: middle;\n",
       "    }\n",
       "\n",
       "    .dataframe tbody tr th {\n",
       "        vertical-align: top;\n",
       "    }\n",
       "\n",
       "    .dataframe thead th {\n",
       "        text-align: right;\n",
       "    }\n",
       "</style>\n",
       "<table border=\"1\" class=\"dataframe\">\n",
       "  <thead>\n",
       "    <tr style=\"text-align: right;\">\n",
       "      <th></th>\n",
       "      <th>neg</th>\n",
       "      <th>neu</th>\n",
       "      <th>pos</th>\n",
       "      <th>compound</th>\n",
       "    </tr>\n",
       "  </thead>\n",
       "  <tbody>\n",
       "    <tr>\n",
       "      <th>0</th>\n",
       "      <td>0.0</td>\n",
       "      <td>1.000</td>\n",
       "      <td>0.000</td>\n",
       "      <td>0.0000</td>\n",
       "    </tr>\n",
       "    <tr>\n",
       "      <th>1</th>\n",
       "      <td>0.0</td>\n",
       "      <td>1.000</td>\n",
       "      <td>0.000</td>\n",
       "      <td>0.0000</td>\n",
       "    </tr>\n",
       "    <tr>\n",
       "      <th>2</th>\n",
       "      <td>0.0</td>\n",
       "      <td>0.864</td>\n",
       "      <td>0.136</td>\n",
       "      <td>0.2960</td>\n",
       "    </tr>\n",
       "    <tr>\n",
       "      <th>3</th>\n",
       "      <td>0.0</td>\n",
       "      <td>0.761</td>\n",
       "      <td>0.239</td>\n",
       "      <td>0.2960</td>\n",
       "    </tr>\n",
       "    <tr>\n",
       "      <th>4</th>\n",
       "      <td>0.0</td>\n",
       "      <td>0.860</td>\n",
       "      <td>0.140</td>\n",
       "      <td>0.3818</td>\n",
       "    </tr>\n",
       "  </tbody>\n",
       "</table>\n",
       "</div>"
      ],
      "text/plain": [
       "   neg    neu    pos  compound\n",
       "0  0.0  1.000  0.000    0.0000\n",
       "1  0.0  1.000  0.000    0.0000\n",
       "2  0.0  0.864  0.136    0.2960\n",
       "3  0.0  0.761  0.239    0.2960\n",
       "4  0.0  0.860  0.140    0.3818"
      ]
     },
     "execution_count": 69,
     "metadata": {},
     "output_type": "execute_result"
    }
   ],
   "source": [
    "sc.head()"
   ]
  },
  {
   "cell_type": "code",
   "execution_count": 82,
   "id": "4f5afbfd",
   "metadata": {},
   "outputs": [
    {
     "data": {
      "text/html": [
       "<div>\n",
       "<style scoped>\n",
       "    .dataframe tbody tr th:only-of-type {\n",
       "        vertical-align: middle;\n",
       "    }\n",
       "\n",
       "    .dataframe tbody tr th {\n",
       "        vertical-align: top;\n",
       "    }\n",
       "\n",
       "    .dataframe thead th {\n",
       "        text-align: right;\n",
       "    }\n",
       "</style>\n",
       "<table border=\"1\" class=\"dataframe\">\n",
       "  <thead>\n",
       "    <tr style=\"text-align: right;\">\n",
       "      <th></th>\n",
       "      <th>Company</th>\n",
       "      <th>Headline</th>\n",
       "      <th>Source</th>\n",
       "      <th>Date</th>\n",
       "      <th>neg</th>\n",
       "      <th>neu</th>\n",
       "      <th>pos</th>\n",
       "      <th>compound</th>\n",
       "    </tr>\n",
       "  </thead>\n",
       "  <tbody>\n",
       "    <tr>\n",
       "      <th>0</th>\n",
       "      <td>HDFC</td>\n",
       "      <td>Markets log 4th day of rally on buying in HDFC...</td>\n",
       "      <td>Times of India</td>\n",
       "      <td>06-09-23</td>\n",
       "      <td>0.0</td>\n",
       "      <td>1.000</td>\n",
       "      <td>0.000</td>\n",
       "      <td>0.0000</td>\n",
       "    </tr>\n",
       "    <tr>\n",
       "      <th>1</th>\n",
       "      <td>HDFC</td>\n",
       "      <td>Markets log 4th day of rally on buying in HDFC...</td>\n",
       "      <td>The Hindu</td>\n",
       "      <td>06-09-23</td>\n",
       "      <td>0.0</td>\n",
       "      <td>1.000</td>\n",
       "      <td>0.000</td>\n",
       "      <td>0.0000</td>\n",
       "    </tr>\n",
       "    <tr>\n",
       "      <th>2</th>\n",
       "      <td>HDFC</td>\n",
       "      <td>HDFC Bank, ICICI Bank, Bank of Baroda shares: ...</td>\n",
       "      <td>CNBCTV18</td>\n",
       "      <td>07-09-23</td>\n",
       "      <td>0.0</td>\n",
       "      <td>0.864</td>\n",
       "      <td>0.136</td>\n",
       "      <td>0.2960</td>\n",
       "    </tr>\n",
       "    <tr>\n",
       "      <th>3</th>\n",
       "      <td>HDFC</td>\n",
       "      <td>Buy Sobha; target of Rs 1024: HDFC Securities</td>\n",
       "      <td>Moneycontrol</td>\n",
       "      <td>07-09-23</td>\n",
       "      <td>0.0</td>\n",
       "      <td>0.761</td>\n",
       "      <td>0.239</td>\n",
       "      <td>0.2960</td>\n",
       "    </tr>\n",
       "    <tr>\n",
       "      <th>4</th>\n",
       "      <td>HDFC</td>\n",
       "      <td>UPI and digital trends shaping the future of c...</td>\n",
       "      <td>BusinessLine</td>\n",
       "      <td>04-09-23</td>\n",
       "      <td>0.0</td>\n",
       "      <td>0.860</td>\n",
       "      <td>0.140</td>\n",
       "      <td>0.3818</td>\n",
       "    </tr>\n",
       "  </tbody>\n",
       "</table>\n",
       "</div>"
      ],
      "text/plain": [
       "  Company                                           Headline          Source  \\\n",
       "0    HDFC  Markets log 4th day of rally on buying in HDFC...  Times of India   \n",
       "1    HDFC  Markets log 4th day of rally on buying in HDFC...       The Hindu   \n",
       "2    HDFC  HDFC Bank, ICICI Bank, Bank of Baroda shares: ...        CNBCTV18   \n",
       "3    HDFC      Buy Sobha; target of Rs 1024: HDFC Securities    Moneycontrol   \n",
       "4    HDFC  UPI and digital trends shaping the future of c...    BusinessLine   \n",
       "\n",
       "       Date  neg    neu    pos  compound  \n",
       "0  06-09-23  0.0  1.000  0.000    0.0000  \n",
       "1  06-09-23  0.0  1.000  0.000    0.0000  \n",
       "2  07-09-23  0.0  0.864  0.136    0.2960  \n",
       "3  07-09-23  0.0  0.761  0.239    0.2960  \n",
       "4  04-09-23  0.0  0.860  0.140    0.3818  "
      ]
     },
     "execution_count": 82,
     "metadata": {},
     "output_type": "execute_result"
    }
   ],
   "source": [
    "df = pd.concat([df, sc], axis=1)\n",
    "df = df.loc[:,~df.columns.duplicated()]\n",
    "df.head()"
   ]
  },
  {
   "cell_type": "code",
   "execution_count": 84,
   "id": "18f53c97",
   "metadata": {},
   "outputs": [
    {
     "name": "stdout",
     "output_type": "stream",
     "text": [
      "<class 'pandas.core.frame.DataFrame'>\n",
      "RangeIndex: 510 entries, 0 to 509\n",
      "Data columns (total 8 columns):\n",
      " #   Column    Non-Null Count  Dtype  \n",
      "---  ------    --------------  -----  \n",
      " 0   Company   510 non-null    object \n",
      " 1   Headline  510 non-null    object \n",
      " 2   Source    510 non-null    object \n",
      " 3   Date      510 non-null    object \n",
      " 4   neg       510 non-null    float64\n",
      " 5   neu       510 non-null    float64\n",
      " 6   pos       510 non-null    float64\n",
      " 7   compound  510 non-null    float64\n",
      "dtypes: float64(4), object(4)\n",
      "memory usage: 32.0+ KB\n"
     ]
    }
   ],
   "source": [
    "df.info()"
   ]
  },
  {
   "cell_type": "code",
   "execution_count": 85,
   "id": "5cd79608",
   "metadata": {},
   "outputs": [
    {
     "name": "stdout",
     "output_type": "stream",
     "text": [
      "Average 'neg': 0.027450980392156862\n",
      "Average 'neu': 0.8639901960784313\n",
      "Average 'pos': 0.10855882352941176\n",
      "Average 'compound': 0.1699509803921569\n"
     ]
    }
   ],
   "source": [
    "# Assuming you have a DataFrame named 'df'\n",
    "average_neg = df['neg'].mean()\n",
    "average_neu = df['neu'].mean()\n",
    "average_pos = df['pos'].mean()\n",
    "average_compound = df['compound'].mean()\n",
    "\n",
    "# Print the averages\n",
    "print(\"Average 'neg':\", average_neg)\n",
    "print(\"Average 'neu':\", average_neu)\n",
    "print(\"Average 'pos':\", average_pos)\n",
    "print(\"Average 'compound':\", average_compound)\n"
   ]
  },
  {
   "cell_type": "code",
   "execution_count": null,
   "id": "35cc2f92",
   "metadata": {},
   "outputs": [],
   "source": []
  }
 ],
 "metadata": {
  "kernelspec": {
   "display_name": "Python 3 (ipykernel)",
   "language": "python",
   "name": "python3"
  },
  "language_info": {
   "codemirror_mode": {
    "name": "ipython",
    "version": 3
   },
   "file_extension": ".py",
   "mimetype": "text/x-python",
   "name": "python",
   "nbconvert_exporter": "python",
   "pygments_lexer": "ipython3",
   "version": "3.11.4"
  }
 },
 "nbformat": 4,
 "nbformat_minor": 5
}
